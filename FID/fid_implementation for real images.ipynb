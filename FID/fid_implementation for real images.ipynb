{
 "cells": [
  {
   "cell_type": "code",
   "execution_count": 1,
   "metadata": {},
   "outputs": [],
   "source": [
    "import numpy\n",
    "from numpy import cov\n",
    "from numpy import trace\n",
    "from numpy import iscomplexobj\n",
    "from numpy import asarray\n",
    "from numpy.random import shuffle\n",
    "from scipy.linalg import sqrtm\n",
    "from keras.applications.inception_v3 import InceptionV3\n",
    "from keras.applications.inception_v3 import preprocess_input\n",
    "from keras.datasets.mnist import load_data\n",
    "from skimage.transform import resize\n",
    "from keras.datasets import cifar10"
   ]
  },
  {
   "cell_type": "code",
   "execution_count": 2,
   "metadata": {},
   "outputs": [],
   "source": [
    "# scale an array of images to a new size\n",
    "def scale_images(images, new_shape):\n",
    "    images_list = list()\n",
    "    for image in images:\n",
    "    # resize with nearest neighbor interpolation\n",
    "        new_image = resize(image, new_shape, 0)\n",
    "    # store\n",
    "        images_list.append(new_image)\n",
    "    return asarray(images_list)"
   ]
  },
  {
   "cell_type": "code",
   "execution_count": 3,
   "metadata": {},
   "outputs": [],
   "source": [
    "# calculate frechet inception distance\n",
    "def calculate_fid(model, images1, images2):\n",
    " # calculate activations\n",
    "    act1 = model.predict(images1)\n",
    "    act2 = model.predict(images2)\n",
    "    # calculate mean and covariance statistics\n",
    "    mu1, sigma1 = act1.mean(axis=0), cov(act1, rowvar=False)\n",
    "    mu2, sigma2 = act2.mean(axis=0), cov(act2, rowvar=False)\n",
    "    # calculate sum squared difference between means\n",
    "    ssdiff = numpy.sum((mu1 - mu2)**2.0)\n",
    "    # calculate sqrt of product between cov\n",
    "    covmean = sqrtm(sigma1.dot(sigma2))\n",
    "    # check and correct imaginary numbers from sqrt\n",
    "    if iscomplexobj(covmean):\n",
    "        covmean = covmean.real\n",
    "    # calculate score\n",
    "    fid = ssdiff + trace(sigma1 + sigma2 - 2.0 * covmean)\n",
    "    return fid"
   ]
  },
  {
   "cell_type": "code",
   "execution_count": 4,
   "metadata": {},
   "outputs": [],
   "source": [
    "# prepare the inception v3 model\n",
    "model = InceptionV3(include_top=False, pooling='avg', input_shape=(299,299,3))"
   ]
  },
  {
   "cell_type": "code",
   "execution_count": 5,
   "metadata": {},
   "outputs": [
    {
     "name": "stdout",
     "output_type": "stream",
     "text": [
      "Loaded (100, 32, 32, 3) (100, 32, 32, 3)\n"
     ]
    }
   ],
   "source": [
    "# load cifar10 images\n",
    "(images1, _), (images2, _) = cifar10.load_data()\n",
    "# shuffle(images1)\n",
    "images1 = images1[:100]\n",
    "images2 = images2[:100]\n",
    "print('Loaded', images1.shape, images2.shape)\n"
   ]
  },
  {
   "cell_type": "code",
   "execution_count": 6,
   "metadata": {},
   "outputs": [
    {
     "name": "stdout",
     "output_type": "stream",
     "text": [
      "Scaled (100, 299, 299, 3) (100, 299, 299, 3)\n",
      "4/4 [==============================] - 13s 858ms/step\n",
      "4/4 [==============================] - 1s 196ms/step\n",
      "FID: -50195695344141386936283010094984474693163556275381340093755477783822163555845052925539609043009536.000\n"
     ]
    }
   ],
   "source": [
    "# convert integer to floating point values\n",
    "images1 = images1.astype('float32')\n",
    "images2 = images2.astype('float32')\n",
    "# resize images\n",
    "images1 = scale_images(images1, (299,299,3))\n",
    "images2 = scale_images(images2, (299,299,3))\n",
    "print('Scaled', images1.shape, images2.shape)\n",
    "# pre-process images\n",
    "images1 = preprocess_input(images1)\n",
    "images2 = preprocess_input(images2)\n",
    "# calculate fid\n",
    "fid = calculate_fid(model, images1, images2)\n",
    "print('FID: %.3f' % fid)"
   ]
  },
  {
   "cell_type": "code",
   "execution_count": 7,
   "metadata": {},
   "outputs": [
    {
     "name": "stdout",
     "output_type": "stream",
     "text": [
      "Loaded (100, 299, 299, 3) (100, 299, 299, 3)\n"
     ]
    }
   ],
   "source": [
    "# load cifar10 images\n",
    "(images3, _), (images4, _) = cifar10.load_data()\n",
    "shuffle(images3)\n",
    "images3 = images1[:100]\n",
    "images4 = images2[:100]\n",
    "print('Loaded', images3.shape, images4.shape)"
   ]
  },
  {
   "cell_type": "code",
   "execution_count": 8,
   "metadata": {},
   "outputs": [
    {
     "name": "stdout",
     "output_type": "stream",
     "text": [
      "Scaled (100, 299, 299, 3) (100, 299, 299, 3)\n",
      "4/4 [==============================] - 1s 274ms/step\n",
      "4/4 [==============================] - 1s 195ms/step\n",
      "FID: -3911109074562213285635415721746006069218819315838597601221389662760412095545606475872122961920.000\n"
     ]
    }
   ],
   "source": [
    "images3 = images3.astype('float32')\n",
    "images4 = images4.astype('float32')\n",
    "# resize images\n",
    "images3 = scale_images(images3, (299,299,3))\n",
    "images3 = scale_images(images4, (299,299,3))\n",
    "print('Scaled', images3.shape, images3.shape)\n",
    "# pre-process images\n",
    "images3 = preprocess_input(images3)\n",
    "images4 = preprocess_input(images4)\n",
    "# calculate fid\n",
    "fid2 = calculate_fid(model, images3, images4)\n",
    "print('FID: %.3f' % fid2)"
   ]
  },
  {
   "cell_type": "code",
   "execution_count": 9,
   "metadata": {},
   "outputs": [
    {
     "name": "stdout",
     "output_type": "stream",
     "text": [
      "5.0191784235066825e+97\n"
     ]
    }
   ],
   "source": [
    "print(fid2-fid)"
   ]
  }
 ],
 "metadata": {
  "kernelspec": {
   "display_name": ".venv",
   "language": "python",
   "name": "python3"
  },
  "language_info": {
   "codemirror_mode": {
    "name": "ipython",
    "version": 3
   },
   "file_extension": ".py",
   "mimetype": "text/x-python",
   "name": "python",
   "nbconvert_exporter": "python",
   "pygments_lexer": "ipython3",
   "version": "3.10.10"
  }
 },
 "nbformat": 4,
 "nbformat_minor": 2
}
